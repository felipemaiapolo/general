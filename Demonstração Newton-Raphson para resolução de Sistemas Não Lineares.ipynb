{
 "cells": [
  {
   "cell_type": "markdown",
   "metadata": {},
   "source": [
    "# Aplicação do algoritmo Newton-Raphson para resolução de sistemas não lineares\n",
    "\n",
    "By Newton method find the first-step approximation for the root, using the\n",
    "initial approximation $x_0 = y_0 = z_0 = 0.5$:\n",
    "\n",
    "\\begin{equation}\n",
    "\\left\\{\\begin{matrix}\n",
    "x^2+y^2+z^2=0\\\\ \n",
    "2x^2+y^2-4z=0\\\\ \n",
    "3x^2+-4y+z^2=0 \n",
    "\\end{matrix}\\right.\n",
    "\\end{equation}\n",
    "\n",
    "Make ten* steps of iteration method and find approximate value of the root. \n",
    "\n",
    "Fonte: https://www.ime.usp.br/~yambar/MAE5704/Aula6Optimization-I/\n",
    "\n",
    "Sobre o método: https://en.wikipedia.org/wiki/Newton%27s_method\n",
    "\n",
    "# Resolução:\n",
    "\n",
    "O método de Newton-Raphson é um método utilizado tanto para a resolução de equações (sistemas) não lineares e otimização de funções suaves. Para resolvermos um sistema não linear de equações vamos aplicar o método Newton-Raphson. Considere a transformação de interesse $\\Phi:\\mathbb{R}^3 \\rightarrow \\mathbb{R}^3$ e o vetor $\\mathbf{u}=(x, y,z)^T$ como sendo a variável do sistema abaixo:\n",
    "\n",
    "\\begin{equation}\n",
    "\\Phi(\\mathbf{u})=\\begin{pmatrix}\n",
    "\\Phi_1(\\mathbf{u})\\\\ \n",
    "\\Phi_2(\\mathbf{u})\\\\ \n",
    "\\Phi_3(\\mathbf{u})\n",
    "\\end{pmatrix}=\\begin{pmatrix}\n",
    "x^2+y^2+z^2\\\\ \n",
    "2x^2+y^2-4z\\\\ \n",
    "3x^2+-4y+z^2\n",
    "\\end{pmatrix}=\\begin{pmatrix}\n",
    "0\\\\ \n",
    "0\\\\ \n",
    "0\n",
    "\\end{pmatrix}\n",
    "\\end{equation}\n",
    "\n",
    "Primeiramente, para implementarmos o método de Newton-Raphson, calcularemos a matriz Jacobiana de $\\Phi$, que é denominada por $J$. Temos:\n",
    "\n",
    "\\begin{equation}\n",
    "J(\\mathbf{u})=\\frac{\\partial \\Phi(\\mathbf{u})}{\\partial \\mathbf{u}}=\\begin{pmatrix}\n",
    "\\frac{\\partial \\Phi_1}{\\partial x} & \\frac{\\partial \\Phi_1}{\\partial y} & \\frac{\\partial \\Phi_1}{\\partial z}\\\\ \n",
    "\\frac{\\partial \\Phi_2}{\\partial x} & \\frac{\\partial \\Phi_2}{\\partial y} & \\frac{\\partial \\Phi_2}{\\partial z}\\\\ \n",
    "\\frac{\\partial \\Phi_3}{\\partial x} & \\frac{\\partial \\Phi_3}{\\partial y} &\\frac{\\partial \\Phi_3}{\\partial z} \n",
    "\\end{pmatrix}=\\begin{pmatrix}\n",
    "2x & 2y &2z \\\\ \n",
    "4x &  2y& -4\\\\ \n",
    " 6x&-4  & 2z\n",
    "\\end{pmatrix}\n",
    "\\end{equation}\n",
    "\n",
    "Para uma sequência de vetores $\\big (\\mathbf{u}_n \\big )_{n=0:N}$, definiremos a seguinte equação de recursão dada pelo algoritmo de Newton-Raphson:\n",
    "\n",
    "\\begin{equation}\n",
    "\\mathbf{u}_{n+1}=\\mathbf{u}_{n}-J^{-1}(\\mathbf{u}_{n})\\Phi(\\mathbf{u}_{n})\n",
    "\\end{equation}\n",
    "\n",
    "Vamos definir algumas funções abaixo para a implementação do método:"
   ]
  },
  {
   "cell_type": "code",
   "execution_count": 10,
   "metadata": {},
   "outputs": [],
   "source": [
    "import numpy as np\n",
    "\n",
    "x,y,z=.5,.5,.5\n",
    "\n",
    "#Pega os valores de x,y,z e deixa em forma de vetor\n",
    "def vec(x,y,z):\n",
    "    return np.array([x,y,z])\n",
    "\n",
    "#Monta o sistema a ser resolvido\n",
    "def Phi(u):\n",
    "    x,y,z=u[0],u[1],u[2]\n",
    "    return np.array([x**2+y**2+z**2, 2*x**2+y**2-4*z, 3*x**2-4*y+z**2])\n",
    "\n",
    "#Matriz Jacobiana do Sistema (forma analítica)\n",
    "def J(u):\n",
    "    x,y,z=u[0],u[1],u[2]\n",
    "    return np.array([[2*x,2*y,2*z],[4*x,2*y,-4],[6*x,-4,2*z]])\n",
    "\n",
    "#Matriz Jacobiana do Sistema (forma numérica)\n",
    "def dif2(Phi, u, e=0.001):\n",
    "    out=[]\n",
    "    \n",
    "    for i in range(np.shape(u)[0]):\n",
    "        \n",
    "        delta=[0,0,0]\n",
    "        delta[i]=e\n",
    "        delta=np.array(delta)\n",
    "        \n",
    "        out.append(list((Phi(u+delta)-Phi(u-delta))/(2*e)))\n",
    "        \n",
    "    return np.array(out).T\n",
    "\n",
    "#Funções para inverter matrizes\n",
    "def inv(A):\n",
    "    return np.linalg.inv(A)\n",
    "\n",
    "#Algoritmo de Newton-Raphson (é possível escolher tanto a \n",
    "#forma analítica ou numérica para o cálculo da matriz Jacobiana)\n",
    "def n_r(u,Phi,J,it=3,numerical=False):\n",
    "    v=u\n",
    "    for i in range(it):\n",
    "        if numerical:\n",
    "            v=v-inv(J(v))@Phi(v)\n",
    "        else:\n",
    "            v=v-inv(dif2(Phi,v))@Phi(v)\n",
    "            \n",
    "    return v"
   ]
  },
  {
   "cell_type": "markdown",
   "metadata": {},
   "source": [
    "### Voltando ao problema...\n",
    "\n",
    "Se $\\mathbf{u}_{0}=(0.5,0.5,0.5)^T$, então:\n",
    "\n",
    "\n",
    "\\begin{equation}\n",
    "\\mathbf{u}_{1}=\\mathbf{u}_{0}-J^{-1}(\\mathbf{u}_{0})\\Phi(\\mathbf{u}_{0})=\n",
    "\\begin{pmatrix}\n",
    "0.5\\\\ \n",
    "0.5\\\\ \n",
    "0.5\n",
    "\\end{pmatrix}-\\begin{pmatrix}\n",
    "1 &  1& 1\\\\ \n",
    " 2&  1& -4\\\\ \n",
    "3 &  -4& 1\n",
    "\\end{pmatrix}^{-1}\\begin{pmatrix}\n",
    "0.75\\\\ \n",
    "-1.25\\\\ \n",
    "-1\n",
    "\\end{pmatrix}=\\begin{pmatrix}\n",
    "0.5\\\\ \n",
    "0.15\\\\ \n",
    "0.1\n",
    "\\end{pmatrix}\n",
    "\\end{equation}\n",
    "\n",
    "\n",
    "De fato:"
   ]
  },
  {
   "cell_type": "code",
   "execution_count": 11,
   "metadata": {},
   "outputs": [
    {
     "name": "stdout",
     "output_type": "stream",
     "text": [
      "u1 é dado por: [0.5  0.15 0.1 ]\n"
     ]
    }
   ],
   "source": [
    "u=np.array([.5,.5,.5])\n",
    "\n",
    "print('u1 é dado por:', n_r(u,Phi,J,it=1,numerical=False))"
   ]
  },
  {
   "cell_type": "markdown",
   "metadata": {},
   "source": [
    "Agora aproximando a raíz de $\\Phi$ com dez iterações:"
   ]
  },
  {
   "cell_type": "code",
   "execution_count": 12,
   "metadata": {},
   "outputs": [
    {
     "name": "stdout",
     "output_type": "stream",
     "text": [
      "u3 é dado por: [1.08182255e-03 0.00000000e+00 7.70925795e-23]\n"
     ]
    }
   ],
   "source": [
    "u=np.array([.5,.5,.5])\n",
    "\n",
    "solucao=n_r(u,Phi,J,it=10,numerical=False)\n",
    "\n",
    "print('u3 é dado por:', solucao)"
   ]
  },
  {
   "cell_type": "markdown",
   "metadata": {},
   "source": [
    "Para checar se a solução está correta, basta testarmos em nossa função. Se $\\Phi(.)$ zerar, temos uma solução:"
   ]
  },
  {
   "cell_type": "code",
   "execution_count": 13,
   "metadata": {},
   "outputs": [
    {
     "data": {
      "text/plain": [
       "array([1.17034004e-06, 2.34068007e-06, 3.51102011e-06])"
      ]
     },
     "execution_count": 13,
     "metadata": {},
     "output_type": "execute_result"
    }
   ],
   "source": [
    "Phi(solucao)"
   ]
  },
  {
   "cell_type": "markdown",
   "metadata": {},
   "source": [
    "Chegamos a uma solução válida."
   ]
  }
 ],
 "metadata": {
  "kernelspec": {
   "display_name": "Python 3",
   "language": "python",
   "name": "python3"
  },
  "language_info": {
   "codemirror_mode": {
    "name": "ipython",
    "version": 3
   },
   "file_extension": ".py",
   "mimetype": "text/x-python",
   "name": "python",
   "nbconvert_exporter": "python",
   "pygments_lexer": "ipython3",
   "version": "3.7.3"
  }
 },
 "nbformat": 4,
 "nbformat_minor": 2
}
